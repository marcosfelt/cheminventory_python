{
 "cells": [
  {
   "cell_type": "markdown",
   "metadata": {},
   "source": [
    "# Tutorial"
   ]
  },
  {
   "cell_type": "markdown",
   "metadata": {},
   "source": [
    "You can install cheminventory from pypi using the  command `pip install cheminventory`. This will install all the necessary dependencies. Once you have done that start with the examples below."
   ]
  },
  {
   "cell_type": "code",
   "execution_count": 2,
   "metadata": {},
   "outputs": [],
   "source": [
    "#Import dependencies\n",
    "from cheminventory import ChemInventory, Location"
   ]
  },
  {
   "cell_type": "markdown",
   "metadata": {},
   "source": [
    "## Login\n",
    "Calling `ChemInventory` will automatically pull your email and passwod from the environmental variables CHEMINVENTORY_EMAIL and CHEMINVENTORY_PASS respectively.\n",
    "Alternatively, you can pass them via the email and password fields into the class. "
   ]
  },
  {
   "cell_type": "code",
   "execution_count": 3,
   "metadata": {},
   "outputs": [],
   "source": [
    "ci = ChemInventory()"
   ]
  },
  {
   "cell_type": "markdown",
   "metadata": {},
   "source": [
    "## Search\n",
    "Search for a container.  This will return a list of container objects. You can search by barcode, CAS number or name."
   ]
  },
  {
   "cell_type": "code",
   "execution_count": 17,
   "metadata": {},
   "outputs": [],
   "source": [
    "#Search by barcode\n",
    "res1 = ci.search(11235)\n",
    "\n",
    "#Search by cas number\n",
    "res2 = ci.search('22502-03-0')\n",
    "\n",
    "#Search by name\n",
    "res3 = ci.search('benzene')"
   ]
  },
  {
   "cell_type": "markdown",
   "metadata": {},
   "source": [
    "## Get Groups\n",
    "Get all the groups available to your account."
   ]
  },
  {
   "cell_type": "code",
   "execution_count": null,
   "metadata": {},
   "outputs": [],
   "source": [
    "ci.get_groups()"
   ]
  },
  {
   "cell_type": "markdown",
   "metadata": {},
   "source": [
    "## Get Locations\n",
    "Get locations available to you. Setting filter_to_my_group to True will only return locations belonging to your group."
   ]
  },
  {
   "cell_type": "code",
   "execution_count": null,
   "metadata": {},
   "outputs": [],
   "source": [
    "locations = ci.get_locations(filter_to_my_group=True)"
   ]
  },
  {
   "cell_type": "markdown",
   "metadata": {},
   "source": [
    "## Get containers\n",
    "Returns a list of containers. Filter to cetain groups or locations by passing a list of Group or Location objects to include_only"
   ]
  },
  {
   "cell_type": "code",
   "execution_count": null,
   "metadata": {},
   "outputs": [],
   "source": [
    "ci.get_containers(include_only=[groups[0]])"
   ]
  },
  {
   "cell_type": "markdown",
   "metadata": {},
   "source": [
    "## Move Container\n",
    "The move container method is still a work in progress. Currrently, you have to pull up developer tools on the cheminventory scan-to-move feature and\n",
    "search the html for \"userid\". You then place your user id here and can move containers in bulk. \n",
    "I use the [vend scanner app](https://www.vendhq.com/scanner) to scan multiple containers at once and export a csv with the barcodes."
   ]
  },
  {
   "cell_type": "code",
   "execution_count": 38,
   "metadata": {},
   "outputs": [],
   "source": [
    "import pandas as pd\n",
    "ci.userid = None #Set your user id here\n",
    "df = pd.read_csv('transfer.csv')\n",
    "errors = []\n",
    "no_move = []\n",
    "for sku in df['sku']:\n",
    "    try:\n",
    "        ci.move_container(sku, locations[16])\n",
    "    except ValueError:\n",
    "        errors.append(sku)\n",
    "    except ProcessLookupError:\n",
    "        no_move.append(sku)"
   ]
  }
 ],
 "metadata": {
  "kernelspec": {
   "display_name": "Python 3",
   "language": "python",
   "name": "python3"
  },
  "language_info": {
   "codemirror_mode": {
    "name": "ipython",
    "version": 3
   },
   "file_extension": ".py",
   "mimetype": "text/x-python",
   "name": "python",
   "nbconvert_exporter": "python",
   "pygments_lexer": "ipython3",
   "version": "3.6.4"
  }
 },
 "nbformat": 4,
 "nbformat_minor": 2
}
